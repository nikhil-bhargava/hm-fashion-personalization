{
 "cells": [
  {
   "cell_type": "markdown",
   "id": "893c7b52",
   "metadata": {},
   "source": [
    "# Collaborative Filtering"
   ]
  },
  {
   "cell_type": "code",
   "execution_count": 1,
   "id": "003d19de",
   "metadata": {},
   "outputs": [],
   "source": [
    "import torch\n",
    "import numpy as np\n",
    "import pandas as pd\n",
    "import torch.nn as nn\n",
    "import torch.nn.functional as F\n",
    "import torch.optim as optim\n",
    "from torch.utils.data import DataLoader, TensorDataset\n",
    "from sklearn.model_selection import train_test_split\n",
    "from sklearn.preprocessing import LabelEncoder\n",
    "import matplotlib.pyplot as plt"
   ]
  },
  {
   "cell_type": "markdown",
   "id": "73de6d30",
   "metadata": {},
   "source": [
    "## Data Info"
   ]
  },
  {
   "cell_type": "code",
   "execution_count": 2,
   "id": "27e3b0ed",
   "metadata": {},
   "outputs": [],
   "source": [
    "df = pd.read_csv('../data/00_raw/transactions_train.csv', nrows=100)"
   ]
  },
  {
   "cell_type": "code",
   "execution_count": 3,
   "id": "d427732b",
   "metadata": {},
   "outputs": [],
   "source": [
    "articles = pd.read_csv('../data/00_raw/articles.csv')"
   ]
  },
  {
   "cell_type": "code",
   "execution_count": 4,
   "id": "0db5080e",
   "metadata": {},
   "outputs": [],
   "source": [
    "articles = articles[['article_id', 'colour_group_code', 'colour_group_name']]"
   ]
  },
  {
   "cell_type": "code",
   "execution_count": 5,
   "id": "7674d3fe",
   "metadata": {},
   "outputs": [
    {
     "data": {
      "text/html": [
       "<div>\n",
       "<style scoped>\n",
       "    .dataframe tbody tr th:only-of-type {\n",
       "        vertical-align: middle;\n",
       "    }\n",
       "\n",
       "    .dataframe tbody tr th {\n",
       "        vertical-align: top;\n",
       "    }\n",
       "\n",
       "    .dataframe thead th {\n",
       "        text-align: right;\n",
       "    }\n",
       "</style>\n",
       "<table border=\"1\" class=\"dataframe\">\n",
       "  <thead>\n",
       "    <tr style=\"text-align: right;\">\n",
       "      <th></th>\n",
       "      <th>t_dat</th>\n",
       "      <th>customer_id</th>\n",
       "      <th>article_id</th>\n",
       "      <th>price</th>\n",
       "      <th>sales_channel_id</th>\n",
       "    </tr>\n",
       "  </thead>\n",
       "  <tbody>\n",
       "    <tr>\n",
       "      <th>0</th>\n",
       "      <td>2018-09-20</td>\n",
       "      <td>000058a12d5b43e67d225668fa1f8d618c13dc232df0ca...</td>\n",
       "      <td>663713001</td>\n",
       "      <td>0.050831</td>\n",
       "      <td>2</td>\n",
       "    </tr>\n",
       "    <tr>\n",
       "      <th>1</th>\n",
       "      <td>2018-09-20</td>\n",
       "      <td>000058a12d5b43e67d225668fa1f8d618c13dc232df0ca...</td>\n",
       "      <td>541518023</td>\n",
       "      <td>0.030492</td>\n",
       "      <td>2</td>\n",
       "    </tr>\n",
       "    <tr>\n",
       "      <th>2</th>\n",
       "      <td>2018-09-20</td>\n",
       "      <td>00007d2de826758b65a93dd24ce629ed66842531df6699...</td>\n",
       "      <td>505221004</td>\n",
       "      <td>0.015237</td>\n",
       "      <td>2</td>\n",
       "    </tr>\n",
       "    <tr>\n",
       "      <th>3</th>\n",
       "      <td>2018-09-20</td>\n",
       "      <td>00007d2de826758b65a93dd24ce629ed66842531df6699...</td>\n",
       "      <td>685687003</td>\n",
       "      <td>0.016932</td>\n",
       "      <td>2</td>\n",
       "    </tr>\n",
       "    <tr>\n",
       "      <th>4</th>\n",
       "      <td>2018-09-20</td>\n",
       "      <td>00007d2de826758b65a93dd24ce629ed66842531df6699...</td>\n",
       "      <td>685687004</td>\n",
       "      <td>0.016932</td>\n",
       "      <td>2</td>\n",
       "    </tr>\n",
       "  </tbody>\n",
       "</table>\n",
       "</div>"
      ],
      "text/plain": [
       "        t_dat                                        customer_id  article_id  \\\n",
       "0  2018-09-20  000058a12d5b43e67d225668fa1f8d618c13dc232df0ca...   663713001   \n",
       "1  2018-09-20  000058a12d5b43e67d225668fa1f8d618c13dc232df0ca...   541518023   \n",
       "2  2018-09-20  00007d2de826758b65a93dd24ce629ed66842531df6699...   505221004   \n",
       "3  2018-09-20  00007d2de826758b65a93dd24ce629ed66842531df6699...   685687003   \n",
       "4  2018-09-20  00007d2de826758b65a93dd24ce629ed66842531df6699...   685687004   \n",
       "\n",
       "      price  sales_channel_id  \n",
       "0  0.050831                 2  \n",
       "1  0.030492                 2  \n",
       "2  0.015237                 2  \n",
       "3  0.016932                 2  \n",
       "4  0.016932                 2  "
      ]
     },
     "execution_count": 5,
     "metadata": {},
     "output_type": "execute_result"
    }
   ],
   "source": [
    "df.head()"
   ]
  },
  {
   "cell_type": "code",
   "execution_count": 6,
   "id": "95ccee80",
   "metadata": {},
   "outputs": [],
   "source": [
    "data = df.groupby(['customer_id', 'article_id'])['customer_id'].count().reset_index(name='total_bought')"
   ]
  },
  {
   "cell_type": "code",
   "execution_count": 7,
   "id": "5880615a",
   "metadata": {},
   "outputs": [],
   "source": [
    "data = data.merge(articles, how='left', on='article_id')"
   ]
  },
  {
   "cell_type": "code",
   "execution_count": 8,
   "id": "6e2c2941",
   "metadata": {},
   "outputs": [],
   "source": [
    "# Encode the genres data\n",
    "encoder = LabelEncoder()\n",
    "encoder.fit(data['customer_id'])\n",
    "data['encoded_customer_id'] = encoder.transform(data['customer_id'])"
   ]
  },
  {
   "cell_type": "code",
   "execution_count": 9,
   "id": "4f23b1c9",
   "metadata": {},
   "outputs": [],
   "source": [
    "X = data.loc[:,['encoded_customer_id','article_id','colour_group_code']]\n",
    "y = data.loc[:,'total_bought']\n",
    "\n",
    "# Split our data into training and test sets\n",
    "X_train, X_val, y_train, y_val = train_test_split(X,y,random_state=0, test_size=0.2)"
   ]
  },
  {
   "cell_type": "code",
   "execution_count": 10,
   "id": "d8d91b83",
   "metadata": {},
   "outputs": [],
   "source": [
    "def prep_dataloaders(X_train,y_train,X_val,y_val,batch_size):\n",
    "    # Convert training and test data to TensorDatasets\n",
    "    trainset = TensorDataset(torch.from_numpy(np.array(X_train)).long(), \n",
    "                            torch.from_numpy(np.array(y_train)).float())\n",
    "    valset = TensorDataset(torch.from_numpy(np.array(X_val)).long(), \n",
    "                            torch.from_numpy(np.array(y_val)).float())\n",
    "\n",
    "    # Create Dataloaders for our training and test data to allow us to iterate over minibatches \n",
    "    trainloader = torch.utils.data.DataLoader(trainset, batch_size=batch_size, shuffle=True)\n",
    "    valloader = torch.utils.data.DataLoader(valset, batch_size=batch_size, shuffle=False)\n",
    "\n",
    "    return trainloader, valloader\n",
    "\n",
    "batchsize = 64\n",
    "trainloader,valloader = prep_dataloaders(X_train,y_train,X_val,y_val,batchsize)"
   ]
  },
  {
   "cell_type": "code",
   "execution_count": 11,
   "id": "d9c130d1",
   "metadata": {},
   "outputs": [],
   "source": [
    "class NNHybridFiltering(nn.Module):\n",
    "    \n",
    "    def __init__(self, n_users, n_items, n_genres, embdim_users, embdim_items, embdim_genres, n_activations, rating_range):\n",
    "        super().__init__()\n",
    "        self.user_embeddings = nn.Embedding(num_embeddings=n_users,embedding_dim=embdim_users)\n",
    "        self.item_embeddings = nn.Embedding(num_embeddings=n_items,embedding_dim=embdim_items)\n",
    "        self.genre_embeddings = nn.Embedding(num_embeddings=n_genres,embedding_dim=embdim_genres)\n",
    "        self.fc1 = nn.Linear(embdim_users+embdim_items+embdim_genres,n_activations)\n",
    "        self.fc2 = nn.Linear(n_activations,1)\n",
    "        self.rating_range = rating_range\n",
    "\n",
    "    def forward(self, X):\n",
    "        # Get embeddings for minibatch\n",
    "        embedded_users = self.user_embeddings(X[:,0])\n",
    "        embedded_items = self.item_embeddings(X[:,1])\n",
    "        embedded_genres = self.genre_embeddings(X[:,2])\n",
    "        # Concatenate user, item and genre embeddings\n",
    "        embeddings = torch.cat([embedded_users,embedded_items,embedded_genres],dim=1)\n",
    "        # Pass embeddings through network\n",
    "        preds = self.fc1(embeddings)\n",
    "        preds = F.relu(preds)\n",
    "        preds = self.fc2(preds)\n",
    "        # Scale predicted ratings to target-range [low,high]\n",
    "        preds = torch.sigmoid(preds) * (self.rating_range[1]-self.rating_range[0]) + self.rating_range[0]\n",
    "        return preds\n"
   ]
  },
  {
   "cell_type": "code",
   "execution_count": 12,
   "id": "f717259e",
   "metadata": {},
   "outputs": [],
   "source": [
    "def train_model(model, criterion, optimizer, dataloaders, device, num_epochs=5, scheduler=None):\n",
    "    model = model.to(device) # Send model to GPU if available\n",
    "    since = time.time()\n",
    "\n",
    "    costpaths = {'train':[],'val':[]}\n",
    "\n",
    "    for epoch in range(num_epochs):\n",
    "        print('Epoch {}/{}'.format(epoch, num_epochs - 1))\n",
    "        print('-' * 10)\n",
    "\n",
    "        # Each epoch has a training and validation phase\n",
    "        for phase in ['train', 'val']:\n",
    "            if phase == 'train':\n",
    "                model.train()  # Set model to training mode\n",
    "            else:\n",
    "                model.eval()   # Set model to evaluate mode\n",
    "\n",
    "            running_loss = 0.0\n",
    "\n",
    "            # Get the inputs and labels, and send to GPU if available\n",
    "            for (inputs,labels) in dataloaders[phase]:\n",
    "                inputs = inputs.to(device)\n",
    "                labels = labels.to(device)\n",
    "\n",
    "                # Zero the weight gradients\n",
    "                optimizer.zero_grad()\n",
    "\n",
    "                # Forward pass to get outputs and calculate loss\n",
    "                # Track gradient only for training data\n",
    "                with torch.set_grad_enabled(phase == 'train'):\n",
    "                    outputs = model.forward(inputs).view(-1)\n",
    "                    loss = criterion(outputs, labels)\n",
    "\n",
    "                    # Backpropagation to get the gradients with respect to each weight\n",
    "                    # Only if in train\n",
    "                    if phase == 'train':\n",
    "                        loss.backward()\n",
    "                        # Update the weights\n",
    "                        optimizer.step()\n",
    "\n",
    "                # Convert loss into a scalar and add it to running_loss\n",
    "                running_loss += np.sqrt(loss.item()) * labels.size(0)\n",
    "\n",
    "            # Step along learning rate scheduler when in train\n",
    "            if (phase == 'train') and (scheduler is not None):\n",
    "                scheduler.step()\n",
    "\n",
    "            # Calculate and display average loss and accuracy for the epoch\n",
    "            epoch_loss = running_loss / len(dataloaders[phase].dataset)\n",
    "            costpaths[phase].append(epoch_loss)\n",
    "            print('{} loss: {:.4f}'.format(phase, epoch_loss))\n",
    "\n",
    "    time_elapsed = time.time() - since\n",
    "    print('Training complete in {:.0f}m {:.0f}s'.format(\n",
    "        time_elapsed // 60, time_elapsed % 60))\n",
    "\n",
    "    return costpaths\n"
   ]
  },
  {
   "cell_type": "code",
   "execution_count": null,
   "id": "023c967f",
   "metadata": {},
   "outputs": [],
   "source": [
    "# Train the model\n",
    "dataloaders = {'train':trainloader, 'val':valloader}\n",
    "n_users = X.loc[:,'encoded_customer_id'].max()+1\n",
    "n_items = X.loc[:,'article_id'].max()+1\n",
    "n_genres = X.loc[:,'colour_group_code'].max()+1\n",
    "model = NNHybridFiltering(n_users,\n",
    "                       n_items,\n",
    "                       n_genres,\n",
    "                       embdim_users=50, \n",
    "                       embdim_items=50, \n",
    "                       embdim_genres=25,\n",
    "                       n_activations = 100,\n",
    "                       rating_range=[0.,5.])\n",
    "criterion = nn.MSELoss()\n",
    "lr=0.001\n",
    "n_epochs=10\n",
    "wd=1e-3\n",
    "optimizer = optim.Adam(model.parameters(), lr=lr, weight_decay=wd)\n",
    "device = torch.device(\"cuda\" if torch.cuda.is_available() else \"cpu\")\n",
    "\n",
    "cost_paths = train_model(model,criterion,optimizer,dataloaders, device,n_epochs, scheduler=None)\n"
   ]
  },
  {
   "cell_type": "markdown",
   "id": "6aade55d",
   "metadata": {},
   "source": [
    "## Collaborative Filtering"
   ]
  },
  {
   "cell_type": "markdown",
   "id": "ed72516f",
   "metadata": {},
   "source": [
    "### Creating collab filter df"
   ]
  },
  {
   "cell_type": "code",
   "execution_count": null,
   "id": "b0800acf",
   "metadata": {},
   "outputs": [],
   "source": [
    "ohe_article = pd.get_dummies(df['product_code'])"
   ]
  },
  {
   "cell_type": "code",
   "execution_count": null,
   "id": "77f80773",
   "metadata": {},
   "outputs": [],
   "source": [
    "len(df.customer_id.unique())"
   ]
  },
  {
   "cell_type": "code",
   "execution_count": null,
   "id": "36c5216c",
   "metadata": {},
   "outputs": [],
   "source": [
    "article_names = list(ohe_article.columns)"
   ]
  },
  {
   "cell_type": "code",
   "execution_count": null,
   "id": "aed3bf0c",
   "metadata": {},
   "outputs": [],
   "source": [
    "cf_df = pd.concat([df['customer_id'], ohe_article], axis=1)"
   ]
  },
  {
   "cell_type": "code",
   "execution_count": null,
   "id": "bee19a3c",
   "metadata": {},
   "outputs": [],
   "source": [
    "cf_df = cf_df.groupby(['customer_id'])[article_names].sum().reset_index()"
   ]
  },
  {
   "cell_type": "code",
   "execution_count": null,
   "id": "af4ac248",
   "metadata": {},
   "outputs": [],
   "source": [
    "len(cf_df.columns)"
   ]
  },
  {
   "cell_type": "code",
   "execution_count": null,
   "id": "154a07af",
   "metadata": {},
   "outputs": [],
   "source": [
    "cf_df.head()"
   ]
  },
  {
   "cell_type": "markdown",
   "id": "76c4dc91",
   "metadata": {},
   "source": [
    "### Test train split"
   ]
  },
  {
   "cell_type": "code",
   "execution_count": null,
   "id": "1b9813b7",
   "metadata": {},
   "outputs": [],
   "source": [
    "from sklearn.model_selection import train_test_split"
   ]
  },
  {
   "cell_type": "code",
   "execution_count": null,
   "id": "0ce6462f",
   "metadata": {},
   "outputs": [],
   "source": [
    "y = cf_df['customer_id']\n",
    "X = cf_df.drop(columns='customer_id')"
   ]
  },
  {
   "cell_type": "code",
   "execution_count": null,
   "id": "7059afbe",
   "metadata": {},
   "outputs": [],
   "source": [
    "X_train, X_test, y_train, y_test = train_test_split(X, y, test_size=0.05, random_state=0)"
   ]
  },
  {
   "cell_type": "code",
   "execution_count": null,
   "id": "12c5a30a",
   "metadata": {},
   "outputs": [],
   "source": [
    "X_train.shape"
   ]
  },
  {
   "cell_type": "code",
   "execution_count": null,
   "id": "a43fd484",
   "metadata": {},
   "outputs": [],
   "source": [
    "X_test.shape"
   ]
  },
  {
   "cell_type": "code",
   "execution_count": null,
   "id": "fcdde687",
   "metadata": {},
   "outputs": [],
   "source": [
    "from sklearn.metrics.pairwise import cosine_similarity"
   ]
  },
  {
   "cell_type": "code",
   "execution_count": null,
   "id": "b180a591",
   "metadata": {},
   "outputs": [],
   "source": [
    "rankings = cosine_similarity(X_test, X_train, dense_output=False)"
   ]
  },
  {
   "cell_type": "code",
   "execution_count": null,
   "id": "bcc37617",
   "metadata": {},
   "outputs": [],
   "source": [
    "y_train = y_train.reset_index(drop=True)\n",
    "y_test = y_test.reset_index(drop=True)"
   ]
  },
  {
   "cell_type": "code",
   "execution_count": null,
   "id": "bfac448a",
   "metadata": {},
   "outputs": [],
   "source": [
    "recommendations = {}\n",
    "for i, pred in enumerate(rankings):\n",
    "    idxs = list(np.argpartition(np.array(pred), -20)[-20:])\n",
    "    recs = []\n",
    "    for idx in idxs:\n",
    "        cid = y_train.loc[[idx]].values[0]\n",
    "        rec = list(df[df['customer_id'] == cid].groupby(['article_id'])['customer_id'].count().sort_values(ascending=False).index.values.astype('int'))\n",
    "        recs.extend(rec)\n",
    "\n",
    "    recs = list(set(recs))\n",
    "    \n",
    "    try:\n",
    "        recs = recs[:12]\n",
    "    except:\n",
    "        pass\n",
    "    \n",
    "    cur_customer = y_test.iloc[[i]].values[0]\n",
    "    recommendations[cur_customer] = recs"
   ]
  },
  {
   "cell_type": "code",
   "execution_count": null,
   "id": "02d1b6b3",
   "metadata": {},
   "outputs": [],
   "source": [
    "mAP_list = []\n",
    "for customer in recommendations:\n",
    "    top_recs = recommendations[customer]\n",
    "    actual_bought = list(df[df['customer_id'] == customer].groupby(['article_id'])['customer_id'].count().sort_values(ascending=False).index.values.astype('int'))\n",
    "    correct = len(set(actual_bought) - set(top_recs))\n",
    "    ap = correct / len(actual_bought)\n",
    "    mAP_list.append(ap)"
   ]
  },
  {
   "cell_type": "code",
   "execution_count": null,
   "id": "cadec178",
   "metadata": {},
   "outputs": [],
   "source": [
    "np.array(mAP_list).mean()"
   ]
  },
  {
   "cell_type": "code",
   "execution_count": null,
   "id": "ae3ab3b3",
   "metadata": {},
   "outputs": [],
   "source": [
    "pop_mAP_list = []\n",
    "for customer in recommendations:\n",
    "    pop_recs = df.groupby(['article_id'])['customer_id'].count().sort_values(ascending=False).index.values[:12]\n",
    "    actual_bought = list(df[df['customer_id'] == customer].groupby(['article_id'])['customer_id'].count().sort_values(ascending=False).index.values.astype('int'))\n",
    "    correct = len(set(actual_bought) - set(pop_recs))\n",
    "    ap = correct / len(actual_bought)\n",
    "    pop_mAP_list.append(ap)"
   ]
  },
  {
   "cell_type": "code",
   "execution_count": null,
   "id": "9475d7f8",
   "metadata": {},
   "outputs": [],
   "source": [
    "np.array(pop_mAP_list).mean()"
   ]
  },
  {
   "cell_type": "code",
   "execution_count": null,
   "id": "ec4a62b0",
   "metadata": {},
   "outputs": [],
   "source": []
  }
 ],
 "metadata": {
  "kernelspec": {
   "display_name": "Python 3 (ipykernel)",
   "language": "python",
   "name": "python3"
  },
  "language_info": {
   "codemirror_mode": {
    "name": "ipython",
    "version": 3
   },
   "file_extension": ".py",
   "mimetype": "text/x-python",
   "name": "python",
   "nbconvert_exporter": "python",
   "pygments_lexer": "ipython3",
   "version": "3.10.4"
  }
 },
 "nbformat": 4,
 "nbformat_minor": 5
}
