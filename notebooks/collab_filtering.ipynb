{
  "cells": [
    {
      "cell_type": "markdown",
      "metadata": {
        "id": "h9D8Ef-VTB2B"
      },
      "source": [
        "# Collaborative Filtering"
      ],
      "id": "h9D8Ef-VTB2B"
    },
    {
      "cell_type": "code",
      "execution_count": null,
      "metadata": {
        "id": "XorsXEOOTB2L"
      },
      "outputs": [],
      "source": [
        "import pandas as pd\n",
        "import numpy as np\n",
        "import matplotlib.pyplot as plt"
      ],
      "id": "XorsXEOOTB2L"
    },
    {
      "cell_type": "markdown",
      "metadata": {
        "id": "GzYpsFSLTB2M"
      },
      "source": [
        "## Data Info"
      ],
      "id": "GzYpsFSLTB2M"
    },
    {
      "cell_type": "code",
      "source": [
        "from google.colab import drive\n",
        "drive.mount('/content/drive')"
      ],
      "metadata": {
        "colab": {
          "base_uri": "https://localhost:8080/"
        },
        "id": "uc5VnTOmTEy6",
        "outputId": "155fb4b2-881f-4dc1-fc75-9005430481e9"
      },
      "id": "uc5VnTOmTEy6",
      "execution_count": null,
      "outputs": [
        {
          "output_type": "stream",
          "name": "stdout",
          "text": [
            "Drive already mounted at /content/drive; to attempt to forcibly remount, call drive.mount(\"/content/drive\", force_remount=True).\n"
          ]
        }
      ]
    },
    {
      "cell_type": "code",
      "execution_count": null,
      "metadata": {
        "id": "DvyLzn5UTB2N"
      },
      "outputs": [],
      "source": [
        "df = pd.read_csv('drive/MyDrive/Colab Notebooks/transactions_train.csv', nrows=50000)"
      ],
      "id": "DvyLzn5UTB2N"
    },
    {
      "cell_type": "code",
      "execution_count": null,
      "metadata": {
        "id": "kNcGGp9zTB2N"
      },
      "outputs": [],
      "source": [
        "articles = pd.read_csv('drive/MyDrive/Colab Notebooks/articles.csv')"
      ],
      "id": "kNcGGp9zTB2N"
    },
    {
      "cell_type": "code",
      "source": [
        "articles.head()"
      ],
      "metadata": {
        "colab": {
          "base_uri": "https://localhost:8080/",
          "height": 560
        },
        "id": "gyS4gLsK-ixQ",
        "outputId": "58e41d1f-4939-4029-b81b-a9a230df180f"
      },
      "id": "gyS4gLsK-ixQ",
      "execution_count": null,
      "outputs": [
        {
          "output_type": "execute_result",
          "data": {
            "text/plain": [
              "   article_id  product_code          prod_name  product_type_no  \\\n",
              "0   108775015        108775          Strap top              253   \n",
              "1   108775044        108775          Strap top              253   \n",
              "2   108775051        108775      Strap top (1)              253   \n",
              "3   110065001        110065  OP T-shirt (Idro)              306   \n",
              "4   110065002        110065  OP T-shirt (Idro)              306   \n",
              "\n",
              "  product_type_name  product_group_name  graphical_appearance_no  \\\n",
              "0          Vest top  Garment Upper body                  1010016   \n",
              "1          Vest top  Garment Upper body                  1010016   \n",
              "2          Vest top  Garment Upper body                  1010017   \n",
              "3               Bra           Underwear                  1010016   \n",
              "4               Bra           Underwear                  1010016   \n",
              "\n",
              "  graphical_appearance_name  colour_group_code colour_group_name  ...  \\\n",
              "0                     Solid                  9             Black  ...   \n",
              "1                     Solid                 10             White  ...   \n",
              "2                    Stripe                 11         Off White  ...   \n",
              "3                     Solid                  9             Black  ...   \n",
              "4                     Solid                 10             White  ...   \n",
              "\n",
              "   department_name index_code        index_name index_group_no  \\\n",
              "0     Jersey Basic          A        Ladieswear              1   \n",
              "1     Jersey Basic          A        Ladieswear              1   \n",
              "2     Jersey Basic          A        Ladieswear              1   \n",
              "3   Clean Lingerie          B  Lingeries/Tights              1   \n",
              "4   Clean Lingerie          B  Lingeries/Tights              1   \n",
              "\n",
              "   index_group_name section_no            section_name garment_group_no  \\\n",
              "0        Ladieswear         16  Womens Everyday Basics             1002   \n",
              "1        Ladieswear         16  Womens Everyday Basics             1002   \n",
              "2        Ladieswear         16  Womens Everyday Basics             1002   \n",
              "3        Ladieswear         61         Womens Lingerie             1017   \n",
              "4        Ladieswear         61         Womens Lingerie             1017   \n",
              "\n",
              "   garment_group_name                                        detail_desc  \n",
              "0        Jersey Basic            Jersey top with narrow shoulder straps.  \n",
              "1        Jersey Basic            Jersey top with narrow shoulder straps.  \n",
              "2        Jersey Basic            Jersey top with narrow shoulder straps.  \n",
              "3   Under-, Nightwear  Microfibre T-shirt bra with underwired, moulde...  \n",
              "4   Under-, Nightwear  Microfibre T-shirt bra with underwired, moulde...  \n",
              "\n",
              "[5 rows x 25 columns]"
            ],
            "text/html": [
              "\n",
              "  <div id=\"df-bf1311b9-63a5-4a24-9b3f-a6679d17a1ea\">\n",
              "    <div class=\"colab-df-container\">\n",
              "      <div>\n",
              "<style scoped>\n",
              "    .dataframe tbody tr th:only-of-type {\n",
              "        vertical-align: middle;\n",
              "    }\n",
              "\n",
              "    .dataframe tbody tr th {\n",
              "        vertical-align: top;\n",
              "    }\n",
              "\n",
              "    .dataframe thead th {\n",
              "        text-align: right;\n",
              "    }\n",
              "</style>\n",
              "<table border=\"1\" class=\"dataframe\">\n",
              "  <thead>\n",
              "    <tr style=\"text-align: right;\">\n",
              "      <th></th>\n",
              "      <th>article_id</th>\n",
              "      <th>product_code</th>\n",
              "      <th>prod_name</th>\n",
              "      <th>product_type_no</th>\n",
              "      <th>product_type_name</th>\n",
              "      <th>product_group_name</th>\n",
              "      <th>graphical_appearance_no</th>\n",
              "      <th>graphical_appearance_name</th>\n",
              "      <th>colour_group_code</th>\n",
              "      <th>colour_group_name</th>\n",
              "      <th>...</th>\n",
              "      <th>department_name</th>\n",
              "      <th>index_code</th>\n",
              "      <th>index_name</th>\n",
              "      <th>index_group_no</th>\n",
              "      <th>index_group_name</th>\n",
              "      <th>section_no</th>\n",
              "      <th>section_name</th>\n",
              "      <th>garment_group_no</th>\n",
              "      <th>garment_group_name</th>\n",
              "      <th>detail_desc</th>\n",
              "    </tr>\n",
              "  </thead>\n",
              "  <tbody>\n",
              "    <tr>\n",
              "      <th>0</th>\n",
              "      <td>108775015</td>\n",
              "      <td>108775</td>\n",
              "      <td>Strap top</td>\n",
              "      <td>253</td>\n",
              "      <td>Vest top</td>\n",
              "      <td>Garment Upper body</td>\n",
              "      <td>1010016</td>\n",
              "      <td>Solid</td>\n",
              "      <td>9</td>\n",
              "      <td>Black</td>\n",
              "      <td>...</td>\n",
              "      <td>Jersey Basic</td>\n",
              "      <td>A</td>\n",
              "      <td>Ladieswear</td>\n",
              "      <td>1</td>\n",
              "      <td>Ladieswear</td>\n",
              "      <td>16</td>\n",
              "      <td>Womens Everyday Basics</td>\n",
              "      <td>1002</td>\n",
              "      <td>Jersey Basic</td>\n",
              "      <td>Jersey top with narrow shoulder straps.</td>\n",
              "    </tr>\n",
              "    <tr>\n",
              "      <th>1</th>\n",
              "      <td>108775044</td>\n",
              "      <td>108775</td>\n",
              "      <td>Strap top</td>\n",
              "      <td>253</td>\n",
              "      <td>Vest top</td>\n",
              "      <td>Garment Upper body</td>\n",
              "      <td>1010016</td>\n",
              "      <td>Solid</td>\n",
              "      <td>10</td>\n",
              "      <td>White</td>\n",
              "      <td>...</td>\n",
              "      <td>Jersey Basic</td>\n",
              "      <td>A</td>\n",
              "      <td>Ladieswear</td>\n",
              "      <td>1</td>\n",
              "      <td>Ladieswear</td>\n",
              "      <td>16</td>\n",
              "      <td>Womens Everyday Basics</td>\n",
              "      <td>1002</td>\n",
              "      <td>Jersey Basic</td>\n",
              "      <td>Jersey top with narrow shoulder straps.</td>\n",
              "    </tr>\n",
              "    <tr>\n",
              "      <th>2</th>\n",
              "      <td>108775051</td>\n",
              "      <td>108775</td>\n",
              "      <td>Strap top (1)</td>\n",
              "      <td>253</td>\n",
              "      <td>Vest top</td>\n",
              "      <td>Garment Upper body</td>\n",
              "      <td>1010017</td>\n",
              "      <td>Stripe</td>\n",
              "      <td>11</td>\n",
              "      <td>Off White</td>\n",
              "      <td>...</td>\n",
              "      <td>Jersey Basic</td>\n",
              "      <td>A</td>\n",
              "      <td>Ladieswear</td>\n",
              "      <td>1</td>\n",
              "      <td>Ladieswear</td>\n",
              "      <td>16</td>\n",
              "      <td>Womens Everyday Basics</td>\n",
              "      <td>1002</td>\n",
              "      <td>Jersey Basic</td>\n",
              "      <td>Jersey top with narrow shoulder straps.</td>\n",
              "    </tr>\n",
              "    <tr>\n",
              "      <th>3</th>\n",
              "      <td>110065001</td>\n",
              "      <td>110065</td>\n",
              "      <td>OP T-shirt (Idro)</td>\n",
              "      <td>306</td>\n",
              "      <td>Bra</td>\n",
              "      <td>Underwear</td>\n",
              "      <td>1010016</td>\n",
              "      <td>Solid</td>\n",
              "      <td>9</td>\n",
              "      <td>Black</td>\n",
              "      <td>...</td>\n",
              "      <td>Clean Lingerie</td>\n",
              "      <td>B</td>\n",
              "      <td>Lingeries/Tights</td>\n",
              "      <td>1</td>\n",
              "      <td>Ladieswear</td>\n",
              "      <td>61</td>\n",
              "      <td>Womens Lingerie</td>\n",
              "      <td>1017</td>\n",
              "      <td>Under-, Nightwear</td>\n",
              "      <td>Microfibre T-shirt bra with underwired, moulde...</td>\n",
              "    </tr>\n",
              "    <tr>\n",
              "      <th>4</th>\n",
              "      <td>110065002</td>\n",
              "      <td>110065</td>\n",
              "      <td>OP T-shirt (Idro)</td>\n",
              "      <td>306</td>\n",
              "      <td>Bra</td>\n",
              "      <td>Underwear</td>\n",
              "      <td>1010016</td>\n",
              "      <td>Solid</td>\n",
              "      <td>10</td>\n",
              "      <td>White</td>\n",
              "      <td>...</td>\n",
              "      <td>Clean Lingerie</td>\n",
              "      <td>B</td>\n",
              "      <td>Lingeries/Tights</td>\n",
              "      <td>1</td>\n",
              "      <td>Ladieswear</td>\n",
              "      <td>61</td>\n",
              "      <td>Womens Lingerie</td>\n",
              "      <td>1017</td>\n",
              "      <td>Under-, Nightwear</td>\n",
              "      <td>Microfibre T-shirt bra with underwired, moulde...</td>\n",
              "    </tr>\n",
              "  </tbody>\n",
              "</table>\n",
              "<p>5 rows × 25 columns</p>\n",
              "</div>\n",
              "      <button class=\"colab-df-convert\" onclick=\"convertToInteractive('df-bf1311b9-63a5-4a24-9b3f-a6679d17a1ea')\"\n",
              "              title=\"Convert this dataframe to an interactive table.\"\n",
              "              style=\"display:none;\">\n",
              "        \n",
              "  <svg xmlns=\"http://www.w3.org/2000/svg\" height=\"24px\"viewBox=\"0 0 24 24\"\n",
              "       width=\"24px\">\n",
              "    <path d=\"M0 0h24v24H0V0z\" fill=\"none\"/>\n",
              "    <path d=\"M18.56 5.44l.94 2.06.94-2.06 2.06-.94-2.06-.94-.94-2.06-.94 2.06-2.06.94zm-11 1L8.5 8.5l.94-2.06 2.06-.94-2.06-.94L8.5 2.5l-.94 2.06-2.06.94zm10 10l.94 2.06.94-2.06 2.06-.94-2.06-.94-.94-2.06-.94 2.06-2.06.94z\"/><path d=\"M17.41 7.96l-1.37-1.37c-.4-.4-.92-.59-1.43-.59-.52 0-1.04.2-1.43.59L10.3 9.45l-7.72 7.72c-.78.78-.78 2.05 0 2.83L4 21.41c.39.39.9.59 1.41.59.51 0 1.02-.2 1.41-.59l7.78-7.78 2.81-2.81c.8-.78.8-2.07 0-2.86zM5.41 20L4 18.59l7.72-7.72 1.47 1.35L5.41 20z\"/>\n",
              "  </svg>\n",
              "      </button>\n",
              "      \n",
              "  <style>\n",
              "    .colab-df-container {\n",
              "      display:flex;\n",
              "      flex-wrap:wrap;\n",
              "      gap: 12px;\n",
              "    }\n",
              "\n",
              "    .colab-df-convert {\n",
              "      background-color: #E8F0FE;\n",
              "      border: none;\n",
              "      border-radius: 50%;\n",
              "      cursor: pointer;\n",
              "      display: none;\n",
              "      fill: #1967D2;\n",
              "      height: 32px;\n",
              "      padding: 0 0 0 0;\n",
              "      width: 32px;\n",
              "    }\n",
              "\n",
              "    .colab-df-convert:hover {\n",
              "      background-color: #E2EBFA;\n",
              "      box-shadow: 0px 1px 2px rgba(60, 64, 67, 0.3), 0px 1px 3px 1px rgba(60, 64, 67, 0.15);\n",
              "      fill: #174EA6;\n",
              "    }\n",
              "\n",
              "    [theme=dark] .colab-df-convert {\n",
              "      background-color: #3B4455;\n",
              "      fill: #D2E3FC;\n",
              "    }\n",
              "\n",
              "    [theme=dark] .colab-df-convert:hover {\n",
              "      background-color: #434B5C;\n",
              "      box-shadow: 0px 1px 3px 1px rgba(0, 0, 0, 0.15);\n",
              "      filter: drop-shadow(0px 1px 2px rgba(0, 0, 0, 0.3));\n",
              "      fill: #FFFFFF;\n",
              "    }\n",
              "  </style>\n",
              "\n",
              "      <script>\n",
              "        const buttonEl =\n",
              "          document.querySelector('#df-bf1311b9-63a5-4a24-9b3f-a6679d17a1ea button.colab-df-convert');\n",
              "        buttonEl.style.display =\n",
              "          google.colab.kernel.accessAllowed ? 'block' : 'none';\n",
              "\n",
              "        async function convertToInteractive(key) {\n",
              "          const element = document.querySelector('#df-bf1311b9-63a5-4a24-9b3f-a6679d17a1ea');\n",
              "          const dataTable =\n",
              "            await google.colab.kernel.invokeFunction('convertToInteractive',\n",
              "                                                     [key], {});\n",
              "          if (!dataTable) return;\n",
              "\n",
              "          const docLinkHtml = 'Like what you see? Visit the ' +\n",
              "            '<a target=\"_blank\" href=https://colab.research.google.com/notebooks/data_table.ipynb>data table notebook</a>'\n",
              "            + ' to learn more about interactive tables.';\n",
              "          element.innerHTML = '';\n",
              "          dataTable['output_type'] = 'display_data';\n",
              "          await google.colab.output.renderOutput(dataTable, element);\n",
              "          const docLink = document.createElement('div');\n",
              "          docLink.innerHTML = docLinkHtml;\n",
              "          element.appendChild(docLink);\n",
              "        }\n",
              "      </script>\n",
              "    </div>\n",
              "  </div>\n",
              "  "
            ]
          },
          "metadata": {},
          "execution_count": 60
        }
      ]
    },
    {
      "cell_type": "code",
      "source": [
        "articles['prod_small'] = articles['product_code'].astype('str').str[0:3]"
      ],
      "metadata": {
        "id": "H3KJdt-19ZXL"
      },
      "id": "H3KJdt-19ZXL",
      "execution_count": null,
      "outputs": []
    },
    {
      "cell_type": "code",
      "source": [
        "articles.head()"
      ],
      "metadata": {
        "colab": {
          "base_uri": "https://localhost:8080/",
          "height": 577
        },
        "id": "ZQcfNpruKlCM",
        "outputId": "c1be1480-9467-4e6e-88d4-77657b55fb89"
      },
      "id": "ZQcfNpruKlCM",
      "execution_count": null,
      "outputs": [
        {
          "output_type": "execute_result",
          "data": {
            "text/plain": [
              "    article_id  product_code            prod_name  product_type_no  \\\n",
              "0    108775015        108775            Strap top              253   \n",
              "3    110065001        110065    OP T-shirt (Idro)              306   \n",
              "6    111565001        111565  20 den 1p Stockings              304   \n",
              "11   112679048        112679       SWEATSHIRT  OC              252   \n",
              "13   114428026        114428    Alice BANDEAU 2-p              306   \n",
              "\n",
              "   product_type_name  product_group_name  graphical_appearance_no  \\\n",
              "0           Vest top  Garment Upper body                  1010016   \n",
              "3                Bra           Underwear                  1010016   \n",
              "6   Underwear Tights      Socks & Tights                  1010016   \n",
              "11           Sweater  Garment Upper body                  1010001   \n",
              "13               Bra           Underwear                  1010017   \n",
              "\n",
              "   graphical_appearance_name  colour_group_code colour_group_name  ...  \\\n",
              "0                      Solid                  9             Black  ...   \n",
              "3                      Solid                  9             Black  ...   \n",
              "6                      Solid                  9             Black  ...   \n",
              "11          All over pattern                  7              Grey  ...   \n",
              "13                    Stripe                 10             White  ...   \n",
              "\n",
              "    index_code        index_name  index_group_no index_group_name  section_no  \\\n",
              "0            A        Ladieswear               1       Ladieswear          16   \n",
              "3            B  Lingeries/Tights               1       Ladieswear          61   \n",
              "6            B  Lingeries/Tights               1       Ladieswear          62   \n",
              "11           G  Baby Sizes 50-98               4    Baby/Children          44   \n",
              "13           B  Lingeries/Tights               1       Ladieswear          61   \n",
              "\n",
              "                      section_name garment_group_no garment_group_name  \\\n",
              "0           Womens Everyday Basics             1002       Jersey Basic   \n",
              "3                  Womens Lingerie             1017  Under-, Nightwear   \n",
              "6   Womens Nightwear, Socks & Tigh             1021   Socks and Tights   \n",
              "11   Baby Essentials & Complements             1002       Jersey Basic   \n",
              "13                 Womens Lingerie             1017  Under-, Nightwear   \n",
              "\n",
              "                                          detail_desc prod_small  \n",
              "0             Jersey top with narrow shoulder straps.        108  \n",
              "3   Microfibre T-shirt bra with underwired, moulde...        110  \n",
              "6   Semi shiny nylon stockings with a wide, reinfo...        111  \n",
              "11  Sweatshirt in soft organic cotton with a  pres...        112  \n",
              "13  Two soft bandeau bras in soft jersey with side...        114  \n",
              "\n",
              "[5 rows x 26 columns]"
            ],
            "text/html": [
              "\n",
              "  <div id=\"df-b48560d3-816e-4405-9c25-2364f33bec70\">\n",
              "    <div class=\"colab-df-container\">\n",
              "      <div>\n",
              "<style scoped>\n",
              "    .dataframe tbody tr th:only-of-type {\n",
              "        vertical-align: middle;\n",
              "    }\n",
              "\n",
              "    .dataframe tbody tr th {\n",
              "        vertical-align: top;\n",
              "    }\n",
              "\n",
              "    .dataframe thead th {\n",
              "        text-align: right;\n",
              "    }\n",
              "</style>\n",
              "<table border=\"1\" class=\"dataframe\">\n",
              "  <thead>\n",
              "    <tr style=\"text-align: right;\">\n",
              "      <th></th>\n",
              "      <th>article_id</th>\n",
              "      <th>product_code</th>\n",
              "      <th>prod_name</th>\n",
              "      <th>product_type_no</th>\n",
              "      <th>product_type_name</th>\n",
              "      <th>product_group_name</th>\n",
              "      <th>graphical_appearance_no</th>\n",
              "      <th>graphical_appearance_name</th>\n",
              "      <th>colour_group_code</th>\n",
              "      <th>colour_group_name</th>\n",
              "      <th>...</th>\n",
              "      <th>index_code</th>\n",
              "      <th>index_name</th>\n",
              "      <th>index_group_no</th>\n",
              "      <th>index_group_name</th>\n",
              "      <th>section_no</th>\n",
              "      <th>section_name</th>\n",
              "      <th>garment_group_no</th>\n",
              "      <th>garment_group_name</th>\n",
              "      <th>detail_desc</th>\n",
              "      <th>prod_small</th>\n",
              "    </tr>\n",
              "  </thead>\n",
              "  <tbody>\n",
              "    <tr>\n",
              "      <th>0</th>\n",
              "      <td>108775015</td>\n",
              "      <td>108775</td>\n",
              "      <td>Strap top</td>\n",
              "      <td>253</td>\n",
              "      <td>Vest top</td>\n",
              "      <td>Garment Upper body</td>\n",
              "      <td>1010016</td>\n",
              "      <td>Solid</td>\n",
              "      <td>9</td>\n",
              "      <td>Black</td>\n",
              "      <td>...</td>\n",
              "      <td>A</td>\n",
              "      <td>Ladieswear</td>\n",
              "      <td>1</td>\n",
              "      <td>Ladieswear</td>\n",
              "      <td>16</td>\n",
              "      <td>Womens Everyday Basics</td>\n",
              "      <td>1002</td>\n",
              "      <td>Jersey Basic</td>\n",
              "      <td>Jersey top with narrow shoulder straps.</td>\n",
              "      <td>108</td>\n",
              "    </tr>\n",
              "    <tr>\n",
              "      <th>3</th>\n",
              "      <td>110065001</td>\n",
              "      <td>110065</td>\n",
              "      <td>OP T-shirt (Idro)</td>\n",
              "      <td>306</td>\n",
              "      <td>Bra</td>\n",
              "      <td>Underwear</td>\n",
              "      <td>1010016</td>\n",
              "      <td>Solid</td>\n",
              "      <td>9</td>\n",
              "      <td>Black</td>\n",
              "      <td>...</td>\n",
              "      <td>B</td>\n",
              "      <td>Lingeries/Tights</td>\n",
              "      <td>1</td>\n",
              "      <td>Ladieswear</td>\n",
              "      <td>61</td>\n",
              "      <td>Womens Lingerie</td>\n",
              "      <td>1017</td>\n",
              "      <td>Under-, Nightwear</td>\n",
              "      <td>Microfibre T-shirt bra with underwired, moulde...</td>\n",
              "      <td>110</td>\n",
              "    </tr>\n",
              "    <tr>\n",
              "      <th>6</th>\n",
              "      <td>111565001</td>\n",
              "      <td>111565</td>\n",
              "      <td>20 den 1p Stockings</td>\n",
              "      <td>304</td>\n",
              "      <td>Underwear Tights</td>\n",
              "      <td>Socks &amp; Tights</td>\n",
              "      <td>1010016</td>\n",
              "      <td>Solid</td>\n",
              "      <td>9</td>\n",
              "      <td>Black</td>\n",
              "      <td>...</td>\n",
              "      <td>B</td>\n",
              "      <td>Lingeries/Tights</td>\n",
              "      <td>1</td>\n",
              "      <td>Ladieswear</td>\n",
              "      <td>62</td>\n",
              "      <td>Womens Nightwear, Socks &amp; Tigh</td>\n",
              "      <td>1021</td>\n",
              "      <td>Socks and Tights</td>\n",
              "      <td>Semi shiny nylon stockings with a wide, reinfo...</td>\n",
              "      <td>111</td>\n",
              "    </tr>\n",
              "    <tr>\n",
              "      <th>11</th>\n",
              "      <td>112679048</td>\n",
              "      <td>112679</td>\n",
              "      <td>SWEATSHIRT  OC</td>\n",
              "      <td>252</td>\n",
              "      <td>Sweater</td>\n",
              "      <td>Garment Upper body</td>\n",
              "      <td>1010001</td>\n",
              "      <td>All over pattern</td>\n",
              "      <td>7</td>\n",
              "      <td>Grey</td>\n",
              "      <td>...</td>\n",
              "      <td>G</td>\n",
              "      <td>Baby Sizes 50-98</td>\n",
              "      <td>4</td>\n",
              "      <td>Baby/Children</td>\n",
              "      <td>44</td>\n",
              "      <td>Baby Essentials &amp; Complements</td>\n",
              "      <td>1002</td>\n",
              "      <td>Jersey Basic</td>\n",
              "      <td>Sweatshirt in soft organic cotton with a  pres...</td>\n",
              "      <td>112</td>\n",
              "    </tr>\n",
              "    <tr>\n",
              "      <th>13</th>\n",
              "      <td>114428026</td>\n",
              "      <td>114428</td>\n",
              "      <td>Alice BANDEAU 2-p</td>\n",
              "      <td>306</td>\n",
              "      <td>Bra</td>\n",
              "      <td>Underwear</td>\n",
              "      <td>1010017</td>\n",
              "      <td>Stripe</td>\n",
              "      <td>10</td>\n",
              "      <td>White</td>\n",
              "      <td>...</td>\n",
              "      <td>B</td>\n",
              "      <td>Lingeries/Tights</td>\n",
              "      <td>1</td>\n",
              "      <td>Ladieswear</td>\n",
              "      <td>61</td>\n",
              "      <td>Womens Lingerie</td>\n",
              "      <td>1017</td>\n",
              "      <td>Under-, Nightwear</td>\n",
              "      <td>Two soft bandeau bras in soft jersey with side...</td>\n",
              "      <td>114</td>\n",
              "    </tr>\n",
              "  </tbody>\n",
              "</table>\n",
              "<p>5 rows × 26 columns</p>\n",
              "</div>\n",
              "      <button class=\"colab-df-convert\" onclick=\"convertToInteractive('df-b48560d3-816e-4405-9c25-2364f33bec70')\"\n",
              "              title=\"Convert this dataframe to an interactive table.\"\n",
              "              style=\"display:none;\">\n",
              "        \n",
              "  <svg xmlns=\"http://www.w3.org/2000/svg\" height=\"24px\"viewBox=\"0 0 24 24\"\n",
              "       width=\"24px\">\n",
              "    <path d=\"M0 0h24v24H0V0z\" fill=\"none\"/>\n",
              "    <path d=\"M18.56 5.44l.94 2.06.94-2.06 2.06-.94-2.06-.94-.94-2.06-.94 2.06-2.06.94zm-11 1L8.5 8.5l.94-2.06 2.06-.94-2.06-.94L8.5 2.5l-.94 2.06-2.06.94zm10 10l.94 2.06.94-2.06 2.06-.94-2.06-.94-.94-2.06-.94 2.06-2.06.94z\"/><path d=\"M17.41 7.96l-1.37-1.37c-.4-.4-.92-.59-1.43-.59-.52 0-1.04.2-1.43.59L10.3 9.45l-7.72 7.72c-.78.78-.78 2.05 0 2.83L4 21.41c.39.39.9.59 1.41.59.51 0 1.02-.2 1.41-.59l7.78-7.78 2.81-2.81c.8-.78.8-2.07 0-2.86zM5.41 20L4 18.59l7.72-7.72 1.47 1.35L5.41 20z\"/>\n",
              "  </svg>\n",
              "      </button>\n",
              "      \n",
              "  <style>\n",
              "    .colab-df-container {\n",
              "      display:flex;\n",
              "      flex-wrap:wrap;\n",
              "      gap: 12px;\n",
              "    }\n",
              "\n",
              "    .colab-df-convert {\n",
              "      background-color: #E8F0FE;\n",
              "      border: none;\n",
              "      border-radius: 50%;\n",
              "      cursor: pointer;\n",
              "      display: none;\n",
              "      fill: #1967D2;\n",
              "      height: 32px;\n",
              "      padding: 0 0 0 0;\n",
              "      width: 32px;\n",
              "    }\n",
              "\n",
              "    .colab-df-convert:hover {\n",
              "      background-color: #E2EBFA;\n",
              "      box-shadow: 0px 1px 2px rgba(60, 64, 67, 0.3), 0px 1px 3px 1px rgba(60, 64, 67, 0.15);\n",
              "      fill: #174EA6;\n",
              "    }\n",
              "\n",
              "    [theme=dark] .colab-df-convert {\n",
              "      background-color: #3B4455;\n",
              "      fill: #D2E3FC;\n",
              "    }\n",
              "\n",
              "    [theme=dark] .colab-df-convert:hover {\n",
              "      background-color: #434B5C;\n",
              "      box-shadow: 0px 1px 3px 1px rgba(0, 0, 0, 0.15);\n",
              "      filter: drop-shadow(0px 1px 2px rgba(0, 0, 0, 0.3));\n",
              "      fill: #FFFFFF;\n",
              "    }\n",
              "  </style>\n",
              "\n",
              "      <script>\n",
              "        const buttonEl =\n",
              "          document.querySelector('#df-b48560d3-816e-4405-9c25-2364f33bec70 button.colab-df-convert');\n",
              "        buttonEl.style.display =\n",
              "          google.colab.kernel.accessAllowed ? 'block' : 'none';\n",
              "\n",
              "        async function convertToInteractive(key) {\n",
              "          const element = document.querySelector('#df-b48560d3-816e-4405-9c25-2364f33bec70');\n",
              "          const dataTable =\n",
              "            await google.colab.kernel.invokeFunction('convertToInteractive',\n",
              "                                                     [key], {});\n",
              "          if (!dataTable) return;\n",
              "\n",
              "          const docLinkHtml = 'Like what you see? Visit the ' +\n",
              "            '<a target=\"_blank\" href=https://colab.research.google.com/notebooks/data_table.ipynb>data table notebook</a>'\n",
              "            + ' to learn more about interactive tables.';\n",
              "          element.innerHTML = '';\n",
              "          dataTable['output_type'] = 'display_data';\n",
              "          await google.colab.output.renderOutput(dataTable, element);\n",
              "          const docLink = document.createElement('div');\n",
              "          docLink.innerHTML = docLinkHtml;\n",
              "          element.appendChild(docLink);\n",
              "        }\n",
              "      </script>\n",
              "    </div>\n",
              "  </div>\n",
              "  "
            ]
          },
          "metadata": {},
          "execution_count": 73
        }
      ]
    },
    {
      "cell_type": "code",
      "source": [
        "articles[articles['product_code']=='624383']"
      ],
      "metadata": {
        "colab": {
          "base_uri": "https://localhost:8080/",
          "height": 143
        },
        "id": "b06a9GBD68xv",
        "outputId": "7468424d-6b89-4dcc-e5fd-25f997709a4d"
      },
      "id": "b06a9GBD68xv",
      "execution_count": null,
      "outputs": [
        {
          "output_type": "execute_result",
          "data": {
            "text/plain": [
              "Empty DataFrame\n",
              "Columns: [article_id, product_code, prod_name, product_type_no, product_type_name, product_group_name, graphical_appearance_no, graphical_appearance_name, colour_group_code, colour_group_name, perceived_colour_value_id, perceived_colour_value_name, perceived_colour_master_id, perceived_colour_master_name, department_no, department_name, index_code, index_name, index_group_no, index_group_name, section_no, section_name, garment_group_no, garment_group_name, detail_desc, prod_small]\n",
              "Index: []\n",
              "\n",
              "[0 rows x 26 columns]"
            ],
            "text/html": [
              "\n",
              "  <div id=\"df-a3e63b11-698c-4b5b-b654-5cda89e86ef1\">\n",
              "    <div class=\"colab-df-container\">\n",
              "      <div>\n",
              "<style scoped>\n",
              "    .dataframe tbody tr th:only-of-type {\n",
              "        vertical-align: middle;\n",
              "    }\n",
              "\n",
              "    .dataframe tbody tr th {\n",
              "        vertical-align: top;\n",
              "    }\n",
              "\n",
              "    .dataframe thead th {\n",
              "        text-align: right;\n",
              "    }\n",
              "</style>\n",
              "<table border=\"1\" class=\"dataframe\">\n",
              "  <thead>\n",
              "    <tr style=\"text-align: right;\">\n",
              "      <th></th>\n",
              "      <th>article_id</th>\n",
              "      <th>product_code</th>\n",
              "      <th>prod_name</th>\n",
              "      <th>product_type_no</th>\n",
              "      <th>product_type_name</th>\n",
              "      <th>product_group_name</th>\n",
              "      <th>graphical_appearance_no</th>\n",
              "      <th>graphical_appearance_name</th>\n",
              "      <th>colour_group_code</th>\n",
              "      <th>colour_group_name</th>\n",
              "      <th>...</th>\n",
              "      <th>index_code</th>\n",
              "      <th>index_name</th>\n",
              "      <th>index_group_no</th>\n",
              "      <th>index_group_name</th>\n",
              "      <th>section_no</th>\n",
              "      <th>section_name</th>\n",
              "      <th>garment_group_no</th>\n",
              "      <th>garment_group_name</th>\n",
              "      <th>detail_desc</th>\n",
              "      <th>prod_small</th>\n",
              "    </tr>\n",
              "  </thead>\n",
              "  <tbody>\n",
              "  </tbody>\n",
              "</table>\n",
              "<p>0 rows × 26 columns</p>\n",
              "</div>\n",
              "      <button class=\"colab-df-convert\" onclick=\"convertToInteractive('df-a3e63b11-698c-4b5b-b654-5cda89e86ef1')\"\n",
              "              title=\"Convert this dataframe to an interactive table.\"\n",
              "              style=\"display:none;\">\n",
              "        \n",
              "  <svg xmlns=\"http://www.w3.org/2000/svg\" height=\"24px\"viewBox=\"0 0 24 24\"\n",
              "       width=\"24px\">\n",
              "    <path d=\"M0 0h24v24H0V0z\" fill=\"none\"/>\n",
              "    <path d=\"M18.56 5.44l.94 2.06.94-2.06 2.06-.94-2.06-.94-.94-2.06-.94 2.06-2.06.94zm-11 1L8.5 8.5l.94-2.06 2.06-.94-2.06-.94L8.5 2.5l-.94 2.06-2.06.94zm10 10l.94 2.06.94-2.06 2.06-.94-2.06-.94-.94-2.06-.94 2.06-2.06.94z\"/><path d=\"M17.41 7.96l-1.37-1.37c-.4-.4-.92-.59-1.43-.59-.52 0-1.04.2-1.43.59L10.3 9.45l-7.72 7.72c-.78.78-.78 2.05 0 2.83L4 21.41c.39.39.9.59 1.41.59.51 0 1.02-.2 1.41-.59l7.78-7.78 2.81-2.81c.8-.78.8-2.07 0-2.86zM5.41 20L4 18.59l7.72-7.72 1.47 1.35L5.41 20z\"/>\n",
              "  </svg>\n",
              "      </button>\n",
              "      \n",
              "  <style>\n",
              "    .colab-df-container {\n",
              "      display:flex;\n",
              "      flex-wrap:wrap;\n",
              "      gap: 12px;\n",
              "    }\n",
              "\n",
              "    .colab-df-convert {\n",
              "      background-color: #E8F0FE;\n",
              "      border: none;\n",
              "      border-radius: 50%;\n",
              "      cursor: pointer;\n",
              "      display: none;\n",
              "      fill: #1967D2;\n",
              "      height: 32px;\n",
              "      padding: 0 0 0 0;\n",
              "      width: 32px;\n",
              "    }\n",
              "\n",
              "    .colab-df-convert:hover {\n",
              "      background-color: #E2EBFA;\n",
              "      box-shadow: 0px 1px 2px rgba(60, 64, 67, 0.3), 0px 1px 3px 1px rgba(60, 64, 67, 0.15);\n",
              "      fill: #174EA6;\n",
              "    }\n",
              "\n",
              "    [theme=dark] .colab-df-convert {\n",
              "      background-color: #3B4455;\n",
              "      fill: #D2E3FC;\n",
              "    }\n",
              "\n",
              "    [theme=dark] .colab-df-convert:hover {\n",
              "      background-color: #434B5C;\n",
              "      box-shadow: 0px 1px 3px 1px rgba(0, 0, 0, 0.15);\n",
              "      filter: drop-shadow(0px 1px 2px rgba(0, 0, 0, 0.3));\n",
              "      fill: #FFFFFF;\n",
              "    }\n",
              "  </style>\n",
              "\n",
              "      <script>\n",
              "        const buttonEl =\n",
              "          document.querySelector('#df-a3e63b11-698c-4b5b-b654-5cda89e86ef1 button.colab-df-convert');\n",
              "        buttonEl.style.display =\n",
              "          google.colab.kernel.accessAllowed ? 'block' : 'none';\n",
              "\n",
              "        async function convertToInteractive(key) {\n",
              "          const element = document.querySelector('#df-a3e63b11-698c-4b5b-b654-5cda89e86ef1');\n",
              "          const dataTable =\n",
              "            await google.colab.kernel.invokeFunction('convertToInteractive',\n",
              "                                                     [key], {});\n",
              "          if (!dataTable) return;\n",
              "\n",
              "          const docLinkHtml = 'Like what you see? Visit the ' +\n",
              "            '<a target=\"_blank\" href=https://colab.research.google.com/notebooks/data_table.ipynb>data table notebook</a>'\n",
              "            + ' to learn more about interactive tables.';\n",
              "          element.innerHTML = '';\n",
              "          dataTable['output_type'] = 'display_data';\n",
              "          await google.colab.output.renderOutput(dataTable, element);\n",
              "          const docLink = document.createElement('div');\n",
              "          docLink.innerHTML = docLinkHtml;\n",
              "          element.appendChild(docLink);\n",
              "        }\n",
              "      </script>\n",
              "    </div>\n",
              "  </div>\n",
              "  "
            ]
          },
          "metadata": {},
          "execution_count": 88
        }
      ]
    },
    {
      "cell_type": "code",
      "source": [
        "articles = articles.drop_duplicates(['prod_small'])"
      ],
      "metadata": {
        "id": "KpNMM3Yu_Hdc"
      },
      "id": "KpNMM3Yu_Hdc",
      "execution_count": null,
      "outputs": []
    },
    {
      "cell_type": "code",
      "source": [
        "articles[['article_id', 'product_code', 'prod_name', 'prod_small']].to_csv('drive/MyDrive/Colab Notebooks/articles_app.csv', index=False)"
      ],
      "metadata": {
        "id": "iNaShgek60qN"
      },
      "id": "iNaShgek60qN",
      "execution_count": null,
      "outputs": []
    },
    {
      "cell_type": "code",
      "execution_count": null,
      "metadata": {
        "id": "hTiHGYebTB2N"
      },
      "outputs": [],
      "source": [
        "articles = articles[['article_id', 'product_code']]"
      ],
      "id": "hTiHGYebTB2N"
    },
    {
      "cell_type": "code",
      "execution_count": null,
      "metadata": {
        "id": "nQR1bTzUTB2N"
      },
      "outputs": [],
      "source": [
        "df = df.merge(articles, how='left', on='article_id')"
      ],
      "id": "nQR1bTzUTB2N"
    },
    {
      "cell_type": "code",
      "execution_count": null,
      "metadata": {
        "colab": {
          "base_uri": "https://localhost:8080/",
          "height": 206
        },
        "id": "VzKDSLTTTB2O",
        "outputId": "b05d3a64-a6bc-4937-82c4-f50c60a79d25"
      },
      "outputs": [
        {
          "output_type": "execute_result",
          "data": {
            "text/plain": [
              "        t_dat                                        customer_id  article_id  \\\n",
              "0  2018-09-20  000058a12d5b43e67d225668fa1f8d618c13dc232df0ca...   663713001   \n",
              "1  2018-09-20  000058a12d5b43e67d225668fa1f8d618c13dc232df0ca...   541518023   \n",
              "2  2018-09-20  00007d2de826758b65a93dd24ce629ed66842531df6699...   505221004   \n",
              "3  2018-09-20  00007d2de826758b65a93dd24ce629ed66842531df6699...   685687003   \n",
              "4  2018-09-20  00007d2de826758b65a93dd24ce629ed66842531df6699...   685687004   \n",
              "\n",
              "      price  sales_channel_id  product_code  \n",
              "0  0.050831                 2        663713  \n",
              "1  0.030492                 2        541518  \n",
              "2  0.015237                 2        505221  \n",
              "3  0.016932                 2        685687  \n",
              "4  0.016932                 2        685687  "
            ],
            "text/html": [
              "\n",
              "  <div id=\"df-331d01fb-0ed1-4f99-aee6-840b0ed6cf27\">\n",
              "    <div class=\"colab-df-container\">\n",
              "      <div>\n",
              "<style scoped>\n",
              "    .dataframe tbody tr th:only-of-type {\n",
              "        vertical-align: middle;\n",
              "    }\n",
              "\n",
              "    .dataframe tbody tr th {\n",
              "        vertical-align: top;\n",
              "    }\n",
              "\n",
              "    .dataframe thead th {\n",
              "        text-align: right;\n",
              "    }\n",
              "</style>\n",
              "<table border=\"1\" class=\"dataframe\">\n",
              "  <thead>\n",
              "    <tr style=\"text-align: right;\">\n",
              "      <th></th>\n",
              "      <th>t_dat</th>\n",
              "      <th>customer_id</th>\n",
              "      <th>article_id</th>\n",
              "      <th>price</th>\n",
              "      <th>sales_channel_id</th>\n",
              "      <th>product_code</th>\n",
              "    </tr>\n",
              "  </thead>\n",
              "  <tbody>\n",
              "    <tr>\n",
              "      <th>0</th>\n",
              "      <td>2018-09-20</td>\n",
              "      <td>000058a12d5b43e67d225668fa1f8d618c13dc232df0ca...</td>\n",
              "      <td>663713001</td>\n",
              "      <td>0.050831</td>\n",
              "      <td>2</td>\n",
              "      <td>663713</td>\n",
              "    </tr>\n",
              "    <tr>\n",
              "      <th>1</th>\n",
              "      <td>2018-09-20</td>\n",
              "      <td>000058a12d5b43e67d225668fa1f8d618c13dc232df0ca...</td>\n",
              "      <td>541518023</td>\n",
              "      <td>0.030492</td>\n",
              "      <td>2</td>\n",
              "      <td>541518</td>\n",
              "    </tr>\n",
              "    <tr>\n",
              "      <th>2</th>\n",
              "      <td>2018-09-20</td>\n",
              "      <td>00007d2de826758b65a93dd24ce629ed66842531df6699...</td>\n",
              "      <td>505221004</td>\n",
              "      <td>0.015237</td>\n",
              "      <td>2</td>\n",
              "      <td>505221</td>\n",
              "    </tr>\n",
              "    <tr>\n",
              "      <th>3</th>\n",
              "      <td>2018-09-20</td>\n",
              "      <td>00007d2de826758b65a93dd24ce629ed66842531df6699...</td>\n",
              "      <td>685687003</td>\n",
              "      <td>0.016932</td>\n",
              "      <td>2</td>\n",
              "      <td>685687</td>\n",
              "    </tr>\n",
              "    <tr>\n",
              "      <th>4</th>\n",
              "      <td>2018-09-20</td>\n",
              "      <td>00007d2de826758b65a93dd24ce629ed66842531df6699...</td>\n",
              "      <td>685687004</td>\n",
              "      <td>0.016932</td>\n",
              "      <td>2</td>\n",
              "      <td>685687</td>\n",
              "    </tr>\n",
              "  </tbody>\n",
              "</table>\n",
              "</div>\n",
              "      <button class=\"colab-df-convert\" onclick=\"convertToInteractive('df-331d01fb-0ed1-4f99-aee6-840b0ed6cf27')\"\n",
              "              title=\"Convert this dataframe to an interactive table.\"\n",
              "              style=\"display:none;\">\n",
              "        \n",
              "  <svg xmlns=\"http://www.w3.org/2000/svg\" height=\"24px\"viewBox=\"0 0 24 24\"\n",
              "       width=\"24px\">\n",
              "    <path d=\"M0 0h24v24H0V0z\" fill=\"none\"/>\n",
              "    <path d=\"M18.56 5.44l.94 2.06.94-2.06 2.06-.94-2.06-.94-.94-2.06-.94 2.06-2.06.94zm-11 1L8.5 8.5l.94-2.06 2.06-.94-2.06-.94L8.5 2.5l-.94 2.06-2.06.94zm10 10l.94 2.06.94-2.06 2.06-.94-2.06-.94-.94-2.06-.94 2.06-2.06.94z\"/><path d=\"M17.41 7.96l-1.37-1.37c-.4-.4-.92-.59-1.43-.59-.52 0-1.04.2-1.43.59L10.3 9.45l-7.72 7.72c-.78.78-.78 2.05 0 2.83L4 21.41c.39.39.9.59 1.41.59.51 0 1.02-.2 1.41-.59l7.78-7.78 2.81-2.81c.8-.78.8-2.07 0-2.86zM5.41 20L4 18.59l7.72-7.72 1.47 1.35L5.41 20z\"/>\n",
              "  </svg>\n",
              "      </button>\n",
              "      \n",
              "  <style>\n",
              "    .colab-df-container {\n",
              "      display:flex;\n",
              "      flex-wrap:wrap;\n",
              "      gap: 12px;\n",
              "    }\n",
              "\n",
              "    .colab-df-convert {\n",
              "      background-color: #E8F0FE;\n",
              "      border: none;\n",
              "      border-radius: 50%;\n",
              "      cursor: pointer;\n",
              "      display: none;\n",
              "      fill: #1967D2;\n",
              "      height: 32px;\n",
              "      padding: 0 0 0 0;\n",
              "      width: 32px;\n",
              "    }\n",
              "\n",
              "    .colab-df-convert:hover {\n",
              "      background-color: #E2EBFA;\n",
              "      box-shadow: 0px 1px 2px rgba(60, 64, 67, 0.3), 0px 1px 3px 1px rgba(60, 64, 67, 0.15);\n",
              "      fill: #174EA6;\n",
              "    }\n",
              "\n",
              "    [theme=dark] .colab-df-convert {\n",
              "      background-color: #3B4455;\n",
              "      fill: #D2E3FC;\n",
              "    }\n",
              "\n",
              "    [theme=dark] .colab-df-convert:hover {\n",
              "      background-color: #434B5C;\n",
              "      box-shadow: 0px 1px 3px 1px rgba(0, 0, 0, 0.15);\n",
              "      filter: drop-shadow(0px 1px 2px rgba(0, 0, 0, 0.3));\n",
              "      fill: #FFFFFF;\n",
              "    }\n",
              "  </style>\n",
              "\n",
              "      <script>\n",
              "        const buttonEl =\n",
              "          document.querySelector('#df-331d01fb-0ed1-4f99-aee6-840b0ed6cf27 button.colab-df-convert');\n",
              "        buttonEl.style.display =\n",
              "          google.colab.kernel.accessAllowed ? 'block' : 'none';\n",
              "\n",
              "        async function convertToInteractive(key) {\n",
              "          const element = document.querySelector('#df-331d01fb-0ed1-4f99-aee6-840b0ed6cf27');\n",
              "          const dataTable =\n",
              "            await google.colab.kernel.invokeFunction('convertToInteractive',\n",
              "                                                     [key], {});\n",
              "          if (!dataTable) return;\n",
              "\n",
              "          const docLinkHtml = 'Like what you see? Visit the ' +\n",
              "            '<a target=\"_blank\" href=https://colab.research.google.com/notebooks/data_table.ipynb>data table notebook</a>'\n",
              "            + ' to learn more about interactive tables.';\n",
              "          element.innerHTML = '';\n",
              "          dataTable['output_type'] = 'display_data';\n",
              "          await google.colab.output.renderOutput(dataTable, element);\n",
              "          const docLink = document.createElement('div');\n",
              "          docLink.innerHTML = docLinkHtml;\n",
              "          element.appendChild(docLink);\n",
              "        }\n",
              "      </script>\n",
              "    </div>\n",
              "  </div>\n",
              "  "
            ]
          },
          "metadata": {},
          "execution_count": 35
        }
      ],
      "source": [
        "df.head()"
      ],
      "id": "VzKDSLTTTB2O"
    },
    {
      "cell_type": "code",
      "execution_count": null,
      "metadata": {
        "colab": {
          "base_uri": "https://localhost:8080/"
        },
        "id": "a3KcT0Q0TB2U",
        "outputId": "980d05ab-dd0a-4db3-e8ad-59054765521a"
      },
      "outputs": [
        {
          "output_type": "execute_result",
          "data": {
            "text/plain": [
              "(50000, 6)"
            ]
          },
          "metadata": {},
          "execution_count": 36
        }
      ],
      "source": [
        "df.shape"
      ],
      "id": "a3KcT0Q0TB2U"
    },
    {
      "cell_type": "code",
      "execution_count": null,
      "metadata": {
        "id": "tHDR6JqTTB2V"
      },
      "outputs": [],
      "source": [
        "# df.info()"
      ],
      "id": "tHDR6JqTTB2V"
    },
    {
      "cell_type": "code",
      "execution_count": null,
      "metadata": {
        "id": "yqrFKVl_TB2Z"
      },
      "outputs": [],
      "source": [
        "# df.describe()"
      ],
      "id": "yqrFKVl_TB2Z"
    },
    {
      "cell_type": "markdown",
      "metadata": {
        "id": "oW5kjwRLTB2Z"
      },
      "source": [
        "## Collaborative Filtering"
      ],
      "id": "oW5kjwRLTB2Z"
    },
    {
      "cell_type": "markdown",
      "metadata": {
        "id": "ay9XNQ9XTB2a"
      },
      "source": [
        "### Creating collab filter df"
      ],
      "id": "ay9XNQ9XTB2a"
    },
    {
      "cell_type": "code",
      "execution_count": null,
      "metadata": {
        "id": "zM8HLsCZTB2b"
      },
      "outputs": [],
      "source": [
        "ohe_article = pd.get_dummies(df['product_code'])"
      ],
      "id": "zM8HLsCZTB2b"
    },
    {
      "cell_type": "code",
      "execution_count": null,
      "metadata": {
        "id": "iwIDTGvPTB2c",
        "colab": {
          "base_uri": "https://localhost:8080/"
        },
        "outputId": "8497d054-2c06-41a5-9e9c-ff75012d9ca9"
      },
      "outputs": [
        {
          "output_type": "execute_result",
          "data": {
            "text/plain": [
              "14392"
            ]
          },
          "metadata": {},
          "execution_count": 38
        }
      ],
      "source": [
        "len(df.customer_id.unique())"
      ],
      "id": "iwIDTGvPTB2c"
    },
    {
      "cell_type": "code",
      "execution_count": null,
      "metadata": {
        "id": "pCNQZHNqTB2c"
      },
      "outputs": [],
      "source": [
        "article_names = list(ohe_article.columns)"
      ],
      "id": "pCNQZHNqTB2c"
    },
    {
      "cell_type": "code",
      "execution_count": null,
      "metadata": {
        "id": "8th0RhcRTB2d"
      },
      "outputs": [],
      "source": [
        "cf_df = pd.concat([df['customer_id'], ohe_article], axis=1)"
      ],
      "id": "8th0RhcRTB2d"
    },
    {
      "cell_type": "code",
      "execution_count": null,
      "metadata": {
        "id": "5d8jZP9XTB2e"
      },
      "outputs": [],
      "source": [
        "cf_df = cf_df.groupby(['customer_id'])[article_names].sum().reset_index()"
      ],
      "id": "5d8jZP9XTB2e"
    },
    {
      "cell_type": "code",
      "execution_count": null,
      "metadata": {
        "id": "1Mob22WyTB2e",
        "colab": {
          "base_uri": "https://localhost:8080/"
        },
        "outputId": "5281cf4d-2738-44f7-9aa7-f4e8ce35f8cb"
      },
      "outputs": [
        {
          "output_type": "execute_result",
          "data": {
            "text/plain": [
              "6837"
            ]
          },
          "metadata": {},
          "execution_count": 42
        }
      ],
      "source": [
        "len(cf_df.columns)"
      ],
      "id": "1Mob22WyTB2e"
    },
    {
      "cell_type": "code",
      "execution_count": null,
      "metadata": {
        "id": "oZqc6EuqTB2f",
        "colab": {
          "base_uri": "https://localhost:8080/",
          "height": 300
        },
        "outputId": "167c467a-b4ff-4239-dc07-2764b739f778"
      },
      "outputs": [
        {
          "output_type": "execute_result",
          "data": {
            "text/plain": [
              "                                         customer_id  108775  110065  111565  \\\n",
              "0  0000423b00ade91418cceaf3b26c6af3dd342b51fd051e...       0       0       0   \n",
              "1  000058a12d5b43e67d225668fa1f8d618c13dc232df0ca...       0       0       0   \n",
              "2  00007d2de826758b65a93dd24ce629ed66842531df6699...       0       0       0   \n",
              "3  0006d37aaf7dd84f9bbc02f6cadcb74fd72ebf370bdc5f...       0       0       0   \n",
              "4  00083cda041544b2fbb0e0d2905ad17da7cf1007526fb4...       0       0       0   \n",
              "\n",
              "   111586  111593  111609  116379  118458  120129  ...  719610  720384  \\\n",
              "0       0       0       0       0       0       0  ...       0       0   \n",
              "1       0       0       0       0       0       0  ...       0       0   \n",
              "2       0       0       0       0       0       0  ...       0       0   \n",
              "3       0       0       0       0       0       0  ...       0       0   \n",
              "4       0       0       0       0       0       0  ...       0       0   \n",
              "\n",
              "   722059  723595  724281  725253  727754  728146  728162  729931  \n",
              "0       0       0       0       0       0       0       0       0  \n",
              "1       0       0       0       0       0       0       0       0  \n",
              "2       0       0       0       0       0       0       0       0  \n",
              "3       0       0       0       0       0       0       0       0  \n",
              "4       0       0       0       0       0       0       0       0  \n",
              "\n",
              "[5 rows x 6837 columns]"
            ],
            "text/html": [
              "\n",
              "  <div id=\"df-34559c29-421d-4fb0-be61-4256e3a266e0\">\n",
              "    <div class=\"colab-df-container\">\n",
              "      <div>\n",
              "<style scoped>\n",
              "    .dataframe tbody tr th:only-of-type {\n",
              "        vertical-align: middle;\n",
              "    }\n",
              "\n",
              "    .dataframe tbody tr th {\n",
              "        vertical-align: top;\n",
              "    }\n",
              "\n",
              "    .dataframe thead th {\n",
              "        text-align: right;\n",
              "    }\n",
              "</style>\n",
              "<table border=\"1\" class=\"dataframe\">\n",
              "  <thead>\n",
              "    <tr style=\"text-align: right;\">\n",
              "      <th></th>\n",
              "      <th>customer_id</th>\n",
              "      <th>108775</th>\n",
              "      <th>110065</th>\n",
              "      <th>111565</th>\n",
              "      <th>111586</th>\n",
              "      <th>111593</th>\n",
              "      <th>111609</th>\n",
              "      <th>116379</th>\n",
              "      <th>118458</th>\n",
              "      <th>120129</th>\n",
              "      <th>...</th>\n",
              "      <th>719610</th>\n",
              "      <th>720384</th>\n",
              "      <th>722059</th>\n",
              "      <th>723595</th>\n",
              "      <th>724281</th>\n",
              "      <th>725253</th>\n",
              "      <th>727754</th>\n",
              "      <th>728146</th>\n",
              "      <th>728162</th>\n",
              "      <th>729931</th>\n",
              "    </tr>\n",
              "  </thead>\n",
              "  <tbody>\n",
              "    <tr>\n",
              "      <th>0</th>\n",
              "      <td>0000423b00ade91418cceaf3b26c6af3dd342b51fd051e...</td>\n",
              "      <td>0</td>\n",
              "      <td>0</td>\n",
              "      <td>0</td>\n",
              "      <td>0</td>\n",
              "      <td>0</td>\n",
              "      <td>0</td>\n",
              "      <td>0</td>\n",
              "      <td>0</td>\n",
              "      <td>0</td>\n",
              "      <td>...</td>\n",
              "      <td>0</td>\n",
              "      <td>0</td>\n",
              "      <td>0</td>\n",
              "      <td>0</td>\n",
              "      <td>0</td>\n",
              "      <td>0</td>\n",
              "      <td>0</td>\n",
              "      <td>0</td>\n",
              "      <td>0</td>\n",
              "      <td>0</td>\n",
              "    </tr>\n",
              "    <tr>\n",
              "      <th>1</th>\n",
              "      <td>000058a12d5b43e67d225668fa1f8d618c13dc232df0ca...</td>\n",
              "      <td>0</td>\n",
              "      <td>0</td>\n",
              "      <td>0</td>\n",
              "      <td>0</td>\n",
              "      <td>0</td>\n",
              "      <td>0</td>\n",
              "      <td>0</td>\n",
              "      <td>0</td>\n",
              "      <td>0</td>\n",
              "      <td>...</td>\n",
              "      <td>0</td>\n",
              "      <td>0</td>\n",
              "      <td>0</td>\n",
              "      <td>0</td>\n",
              "      <td>0</td>\n",
              "      <td>0</td>\n",
              "      <td>0</td>\n",
              "      <td>0</td>\n",
              "      <td>0</td>\n",
              "      <td>0</td>\n",
              "    </tr>\n",
              "    <tr>\n",
              "      <th>2</th>\n",
              "      <td>00007d2de826758b65a93dd24ce629ed66842531df6699...</td>\n",
              "      <td>0</td>\n",
              "      <td>0</td>\n",
              "      <td>0</td>\n",
              "      <td>0</td>\n",
              "      <td>0</td>\n",
              "      <td>0</td>\n",
              "      <td>0</td>\n",
              "      <td>0</td>\n",
              "      <td>0</td>\n",
              "      <td>...</td>\n",
              "      <td>0</td>\n",
              "      <td>0</td>\n",
              "      <td>0</td>\n",
              "      <td>0</td>\n",
              "      <td>0</td>\n",
              "      <td>0</td>\n",
              "      <td>0</td>\n",
              "      <td>0</td>\n",
              "      <td>0</td>\n",
              "      <td>0</td>\n",
              "    </tr>\n",
              "    <tr>\n",
              "      <th>3</th>\n",
              "      <td>0006d37aaf7dd84f9bbc02f6cadcb74fd72ebf370bdc5f...</td>\n",
              "      <td>0</td>\n",
              "      <td>0</td>\n",
              "      <td>0</td>\n",
              "      <td>0</td>\n",
              "      <td>0</td>\n",
              "      <td>0</td>\n",
              "      <td>0</td>\n",
              "      <td>0</td>\n",
              "      <td>0</td>\n",
              "      <td>...</td>\n",
              "      <td>0</td>\n",
              "      <td>0</td>\n",
              "      <td>0</td>\n",
              "      <td>0</td>\n",
              "      <td>0</td>\n",
              "      <td>0</td>\n",
              "      <td>0</td>\n",
              "      <td>0</td>\n",
              "      <td>0</td>\n",
              "      <td>0</td>\n",
              "    </tr>\n",
              "    <tr>\n",
              "      <th>4</th>\n",
              "      <td>00083cda041544b2fbb0e0d2905ad17da7cf1007526fb4...</td>\n",
              "      <td>0</td>\n",
              "      <td>0</td>\n",
              "      <td>0</td>\n",
              "      <td>0</td>\n",
              "      <td>0</td>\n",
              "      <td>0</td>\n",
              "      <td>0</td>\n",
              "      <td>0</td>\n",
              "      <td>0</td>\n",
              "      <td>...</td>\n",
              "      <td>0</td>\n",
              "      <td>0</td>\n",
              "      <td>0</td>\n",
              "      <td>0</td>\n",
              "      <td>0</td>\n",
              "      <td>0</td>\n",
              "      <td>0</td>\n",
              "      <td>0</td>\n",
              "      <td>0</td>\n",
              "      <td>0</td>\n",
              "    </tr>\n",
              "  </tbody>\n",
              "</table>\n",
              "<p>5 rows × 6837 columns</p>\n",
              "</div>\n",
              "      <button class=\"colab-df-convert\" onclick=\"convertToInteractive('df-34559c29-421d-4fb0-be61-4256e3a266e0')\"\n",
              "              title=\"Convert this dataframe to an interactive table.\"\n",
              "              style=\"display:none;\">\n",
              "        \n",
              "  <svg xmlns=\"http://www.w3.org/2000/svg\" height=\"24px\"viewBox=\"0 0 24 24\"\n",
              "       width=\"24px\">\n",
              "    <path d=\"M0 0h24v24H0V0z\" fill=\"none\"/>\n",
              "    <path d=\"M18.56 5.44l.94 2.06.94-2.06 2.06-.94-2.06-.94-.94-2.06-.94 2.06-2.06.94zm-11 1L8.5 8.5l.94-2.06 2.06-.94-2.06-.94L8.5 2.5l-.94 2.06-2.06.94zm10 10l.94 2.06.94-2.06 2.06-.94-2.06-.94-.94-2.06-.94 2.06-2.06.94z\"/><path d=\"M17.41 7.96l-1.37-1.37c-.4-.4-.92-.59-1.43-.59-.52 0-1.04.2-1.43.59L10.3 9.45l-7.72 7.72c-.78.78-.78 2.05 0 2.83L4 21.41c.39.39.9.59 1.41.59.51 0 1.02-.2 1.41-.59l7.78-7.78 2.81-2.81c.8-.78.8-2.07 0-2.86zM5.41 20L4 18.59l7.72-7.72 1.47 1.35L5.41 20z\"/>\n",
              "  </svg>\n",
              "      </button>\n",
              "      \n",
              "  <style>\n",
              "    .colab-df-container {\n",
              "      display:flex;\n",
              "      flex-wrap:wrap;\n",
              "      gap: 12px;\n",
              "    }\n",
              "\n",
              "    .colab-df-convert {\n",
              "      background-color: #E8F0FE;\n",
              "      border: none;\n",
              "      border-radius: 50%;\n",
              "      cursor: pointer;\n",
              "      display: none;\n",
              "      fill: #1967D2;\n",
              "      height: 32px;\n",
              "      padding: 0 0 0 0;\n",
              "      width: 32px;\n",
              "    }\n",
              "\n",
              "    .colab-df-convert:hover {\n",
              "      background-color: #E2EBFA;\n",
              "      box-shadow: 0px 1px 2px rgba(60, 64, 67, 0.3), 0px 1px 3px 1px rgba(60, 64, 67, 0.15);\n",
              "      fill: #174EA6;\n",
              "    }\n",
              "\n",
              "    [theme=dark] .colab-df-convert {\n",
              "      background-color: #3B4455;\n",
              "      fill: #D2E3FC;\n",
              "    }\n",
              "\n",
              "    [theme=dark] .colab-df-convert:hover {\n",
              "      background-color: #434B5C;\n",
              "      box-shadow: 0px 1px 3px 1px rgba(0, 0, 0, 0.15);\n",
              "      filter: drop-shadow(0px 1px 2px rgba(0, 0, 0, 0.3));\n",
              "      fill: #FFFFFF;\n",
              "    }\n",
              "  </style>\n",
              "\n",
              "      <script>\n",
              "        const buttonEl =\n",
              "          document.querySelector('#df-34559c29-421d-4fb0-be61-4256e3a266e0 button.colab-df-convert');\n",
              "        buttonEl.style.display =\n",
              "          google.colab.kernel.accessAllowed ? 'block' : 'none';\n",
              "\n",
              "        async function convertToInteractive(key) {\n",
              "          const element = document.querySelector('#df-34559c29-421d-4fb0-be61-4256e3a266e0');\n",
              "          const dataTable =\n",
              "            await google.colab.kernel.invokeFunction('convertToInteractive',\n",
              "                                                     [key], {});\n",
              "          if (!dataTable) return;\n",
              "\n",
              "          const docLinkHtml = 'Like what you see? Visit the ' +\n",
              "            '<a target=\"_blank\" href=https://colab.research.google.com/notebooks/data_table.ipynb>data table notebook</a>'\n",
              "            + ' to learn more about interactive tables.';\n",
              "          element.innerHTML = '';\n",
              "          dataTable['output_type'] = 'display_data';\n",
              "          await google.colab.output.renderOutput(dataTable, element);\n",
              "          const docLink = document.createElement('div');\n",
              "          docLink.innerHTML = docLinkHtml;\n",
              "          element.appendChild(docLink);\n",
              "        }\n",
              "      </script>\n",
              "    </div>\n",
              "  </div>\n",
              "  "
            ]
          },
          "metadata": {},
          "execution_count": 43
        }
      ],
      "source": [
        "cf_df.head()"
      ],
      "id": "oZqc6EuqTB2f"
    },
    {
      "cell_type": "markdown",
      "metadata": {
        "id": "NVDHJKUvTB2f"
      },
      "source": [
        "### Test train split"
      ],
      "id": "NVDHJKUvTB2f"
    },
    {
      "cell_type": "code",
      "execution_count": null,
      "metadata": {
        "id": "E-YeKKT3TB2g"
      },
      "outputs": [],
      "source": [
        "from sklearn.model_selection import train_test_split"
      ],
      "id": "E-YeKKT3TB2g"
    },
    {
      "cell_type": "code",
      "execution_count": null,
      "metadata": {
        "id": "8iVCR8XcTB2g"
      },
      "outputs": [],
      "source": [
        "y = cf_df['customer_id']\n",
        "X = cf_df.drop(columns='customer_id')"
      ],
      "id": "8iVCR8XcTB2g"
    },
    {
      "cell_type": "code",
      "source": [
        "X.to_csv('drive/MyDrive/Colab Notebooks/app.csv', index=False)"
      ],
      "metadata": {
        "id": "ncUdqHFJ2W6_"
      },
      "id": "ncUdqHFJ2W6_",
      "execution_count": null,
      "outputs": []
    },
    {
      "cell_type": "code",
      "execution_count": null,
      "metadata": {
        "id": "WOrXCo9jTB2g"
      },
      "outputs": [],
      "source": [
        "X_train, X_test, y_train, y_test = train_test_split(X, y, test_size=0.10, random_state=0)"
      ],
      "id": "WOrXCo9jTB2g"
    },
    {
      "cell_type": "code",
      "execution_count": null,
      "metadata": {
        "id": "8SEhw3hITB2g",
        "outputId": "82263430-2bbf-4015-cd78-567d9c038b08",
        "colab": {
          "base_uri": "https://localhost:8080/"
        }
      },
      "outputs": [
        {
          "output_type": "execute_result",
          "data": {
            "text/plain": [
              "(12952, 6836)"
            ]
          },
          "metadata": {},
          "execution_count": 19
        }
      ],
      "source": [
        "X_train.shape"
      ],
      "id": "8SEhw3hITB2g"
    },
    {
      "cell_type": "code",
      "execution_count": null,
      "metadata": {
        "id": "WnPLQFlFTB2h",
        "outputId": "870fba4f-3902-45c2-dcef-0248a42ff843",
        "colab": {
          "base_uri": "https://localhost:8080/"
        }
      },
      "outputs": [
        {
          "output_type": "execute_result",
          "data": {
            "text/plain": [
              "(1440, 6836)"
            ]
          },
          "metadata": {},
          "execution_count": 20
        }
      ],
      "source": [
        "X_test.shape"
      ],
      "id": "WnPLQFlFTB2h"
    },
    {
      "cell_type": "code",
      "execution_count": null,
      "metadata": {
        "id": "6KrOTBCtTB2h"
      },
      "outputs": [],
      "source": [
        "from sklearn.metrics.pairwise import cosine_similarity"
      ],
      "id": "6KrOTBCtTB2h"
    },
    {
      "cell_type": "code",
      "execution_count": null,
      "metadata": {
        "id": "p3s4yd9FTB2h"
      },
      "outputs": [],
      "source": [
        "rankings = cosine_similarity(X_test, X_train, dense_output=False)"
      ],
      "id": "p3s4yd9FTB2h"
    },
    {
      "cell_type": "code",
      "execution_count": null,
      "metadata": {
        "id": "VKrGc_7wTB2h"
      },
      "outputs": [],
      "source": [
        "y_train = y_train.reset_index(drop=True)\n",
        "y_test = y_test.reset_index(drop=True)"
      ],
      "id": "VKrGc_7wTB2h"
    },
    {
      "cell_type": "code",
      "execution_count": null,
      "metadata": {
        "id": "3vFlf3azTB2h"
      },
      "outputs": [],
      "source": [
        "recommendations = {}\n",
        "for i, pred in enumerate(rankings):\n",
        "    idxs = list(np.argpartition(np.array(pred), -20)[-20:])\n",
        "    recs = []\n",
        "    for idx in idxs:\n",
        "        cid = y_train.loc[[idx]].values[0]\n",
        "        rec = list(df[df['customer_id'] == cid].groupby(['article_id'])['customer_id'].count().sort_values(ascending=False).index.values.astype('int'))\n",
        "        recs.extend(rec)\n",
        "\n",
        "    recs = list(set(recs))\n",
        "    \n",
        "    try:\n",
        "        recs = recs[:12]\n",
        "    except:\n",
        "        pass\n",
        "    \n",
        "    cur_customer = y_test.iloc[[i]].values[0]\n",
        "    recommendations[cur_customer] = recs"
      ],
      "id": "3vFlf3azTB2h"
    },
    {
      "cell_type": "code",
      "execution_count": null,
      "metadata": {
        "id": "U65S2N13TB2i"
      },
      "outputs": [],
      "source": [
        "mAP_list = []\n",
        "for customer in recommendations:\n",
        "    top_recs = recommendations[customer]\n",
        "    actual_bought = list(df[df['customer_id'] == customer].groupby(['article_id'])['customer_id'].count().sort_values(ascending=False).index.values.astype('int'))\n",
        "    correct = len(set(actual_bought).intersection(set(top_recs)))\n",
        "    ap = correct / len(top_recs)\n",
        "    mAP_list.append(ap)"
      ],
      "id": "U65S2N13TB2i"
    },
    {
      "cell_type": "code",
      "execution_count": null,
      "metadata": {
        "id": "qrmJ-vfWTB2i",
        "colab": {
          "base_uri": "https://localhost:8080/"
        },
        "outputId": "20e3c5fd-6b49-4b1d-e070-ec270199c7c2"
      },
      "outputs": [
        {
          "output_type": "execute_result",
          "data": {
            "text/plain": [
              "0.09514404962321629"
            ]
          },
          "metadata": {},
          "execution_count": 26
        }
      ],
      "source": [
        "np.array(mAP_list).mean()"
      ],
      "id": "qrmJ-vfWTB2i"
    },
    {
      "cell_type": "code",
      "execution_count": null,
      "metadata": {
        "id": "zGAKwkAOTB2j"
      },
      "outputs": [],
      "source": [
        "pop_mAP_list = []\n",
        "for customer in recommendations:\n",
        "    pop_recs = df.groupby(['article_id'])['customer_id'].count().sort_values(ascending=False).index.values[:12]\n",
        "    actual_bought = list(df[df['customer_id'] == customer].groupby(['article_id'])['customer_id'].count().sort_values(ascending=False).index.values.astype('int'))\n",
        "    correct = len(set(actual_bought).intersection(set(top_recs)))\n",
        "    ap = correct / len(pop_recs)\n",
        "    pop_mAP_list.append(ap)"
      ],
      "id": "zGAKwkAOTB2j"
    },
    {
      "cell_type": "code",
      "execution_count": null,
      "metadata": {
        "id": "LHRaOiLtTB2j",
        "colab": {
          "base_uri": "https://localhost:8080/"
        },
        "outputId": "f97741ee-28a4-4538-d4d3-3a5c36cbcce5"
      },
      "outputs": [
        {
          "output_type": "execute_result",
          "data": {
            "text/plain": [
              "0.0013310185185185185"
            ]
          },
          "metadata": {},
          "execution_count": 28
        }
      ],
      "source": [
        "np.array(pop_mAP_list).mean()"
      ],
      "id": "LHRaOiLtTB2j"
    },
    {
      "cell_type": "code",
      "execution_count": null,
      "metadata": {
        "id": "vJv6mtR6TB2j"
      },
      "outputs": [],
      "source": [
        ""
      ],
      "id": "vJv6mtR6TB2j"
    }
  ],
  "metadata": {
    "kernelspec": {
      "display_name": "Python 3 (ipykernel)",
      "language": "python",
      "name": "python3"
    },
    "language_info": {
      "codemirror_mode": {
        "name": "ipython",
        "version": 3
      },
      "file_extension": ".py",
      "mimetype": "text/x-python",
      "name": "python",
      "nbconvert_exporter": "python",
      "pygments_lexer": "ipython3",
      "version": "3.6.8"
    },
    "colab": {
      "name": "collab-filtering.ipynb",
      "provenance": [],
      "machine_shape": "hm"
    }
  },
  "nbformat": 4,
  "nbformat_minor": 5
}